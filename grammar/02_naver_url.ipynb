{
 "cells": [
  {
   "cell_type": "code",
   "execution_count": 5,
   "metadata": {},
   "outputs": [],
   "source": [
    "# BeautifulSoup Study 02\n",
    "# \n",
    "# request 함수 이용해 url로부터 html문서 받기\n",
    "# .find, .text\n",
    "# \n",
    "import urllib.request\n",
    "import bs4"
   ]
  },
  {
   "cell_type": "code",
   "execution_count": 7,
   "metadata": {},
   "outputs": [
    {
     "name": "stdout",
     "output_type": "stream",
     "text": [
      "<div class=\"service_area\">\n",
      "<a class=\"link_set\" data-clk=\"top.mkhome\" href=\"https://help.naver.com/support/welcomePage/guide.help\" id=\"NM_set_home_btn\">네이버를 시작페이지로</a>\n",
      "<i class=\"sa_bar\"></i>\n",
      "<a class=\"link_jrnaver\" data-clk=\"top.jrnaver\" href=\"https://jr.naver.com\"><i class=\"ico_jrnaver\"></i><span class=\"blind\">쥬니어네이버</span></a>\n",
      "<a class=\"link_happybin\" data-clk=\"top.happybean\" href=\"https://happybean.naver.com\"><i class=\"ico_happybin\"></i><span class=\"blind\">해피빈</span></a>\n",
      "</div>\n",
      "\n",
      "\n",
      "\n",
      "<a class=\"link_set\" data-clk=\"top.mkhome\" href=\"https://help.naver.com/support/welcomePage/guide.help\" id=\"NM_set_home_btn\">네이버를 시작페이지로</a>\n",
      "\n",
      "\n",
      "\n",
      "네이버를 시작페이지로\n"
     ]
    }
   ],
   "source": [
    "url=\"https://www.naver.com/\"\n",
    "html=urllib.request.urlopen(url)\n",
    "bsObj=bs4.BeautifulSoup(html, \"html.parser\")\n",
    "\n",
    "# \"service_area\" class를 갖고있는 div를 검색\n",
    "top_right=bsObj.find(\"div\", {\"class\":\"service_area\"})\n",
    "\n",
    "print(top_right) \n",
    "print(\"\\n\\n\")\n",
    "print(top_right.find(\"a\"))\n",
    "print(\"\\n\\n\")\n",
    "print(top_right.find(\"a\").text) # .text를 이용해 태그 내부의 문자열만 추출한다."
   ]
  },
  {
   "cell_type": "code",
   "execution_count": 10,
   "metadata": {},
   "outputs": [
    {
     "name": "stdout",
     "output_type": "stream",
     "text": [
      "메일\n",
      "카페\n",
      "블로그\n",
      "지식iN\n",
      "쇼핑\n",
      "Pay\n",
      "TV\n"
     ]
    }
   ],
   "source": [
    "#네이버 navbar 메뉴 수집하기\n",
    "\n",
    "url=\"https://www.naver.com/\"\n",
    "html=urllib.request.urlopen(url)\n",
    "bsObj=bs4.BeautifulSoup(html,\"html.parser\")\n",
    "\n",
    "ul_an_l=bsObj.find(\"ul\", {\"class\":\"list_nav\"})\n",
    "\n",
    "lis_menu=ul_an_l.findAll(\"li\") #findAll : <li></li> 들의 리스트 생성\n",
    "\n",
    "for li in lis_menu:\n",
    "    a_tag=li.find(\"a\")\n",
    "    print(a_tag.text)\n"
   ]
  },
  {
   "cell_type": "code",
   "execution_count": null,
   "metadata": {},
   "outputs": [],
   "source": [
    "#네이버 첫페이지 뉴스 제목 크롤링하기\n",
    "import bs4\n",
    "from urllib.request import urlopen\n",
    "\n",
    "url=\"https://news.naver.com/\"\n",
    "html=urllib.request.urlopen(url)\n",
    "bsObj=bs4.BeautifulSoup(html,\"html.parser\")\n",
    "\n",
    "ul_article=bsObj.find(\"ul\", {\"class\":\"hdline_article_list\"})\n",
    "lis_article=ul_article.findAll(\"li\")\n",
    "\n",
    "\n",
    "titles=[li.find(\"a\").text for li in lis_article]\n",
    "#pint(titles)\n",
    "for i in titles : \n",
    "    i=i.replace(\"\\n                                        \", \"\") #replace : \\n 지우기!\n",
    "    print(\"오늘의 기사는 : \"+i)\n",
    "    \n",
    "\n"
   ]
  },
  {
   "cell_type": "code",
   "execution_count": 4,
   "metadata": {},
   "outputs": [
    {
     "ename": "NameError",
     "evalue": "name 'uls_second' is not defined",
     "output_type": "error",
     "traceback": [
      "\u001b[0;31m---------------------------------------------------------------------------\u001b[0m",
      "\u001b[0;31mNameError\u001b[0m                                 Traceback (most recent call last)",
      "\u001b[0;32m<ipython-input-4-51ccacbfb24d>\u001b[0m in \u001b[0;36m<module>\u001b[0;34m\u001b[0m\n\u001b[1;32m     31\u001b[0m \u001b[0muls\u001b[0m\u001b[0;34m=\u001b[0m\u001b[0mbsObj\u001b[0m\u001b[0;34m.\u001b[0m\u001b[0mfindAll\u001b[0m\u001b[0;34m(\u001b[0m\u001b[0;34m\"ul\"\u001b[0m\u001b[0;34m)\u001b[0m\u001b[0;34m\u001b[0m\u001b[0;34m\u001b[0m\u001b[0m\n\u001b[1;32m     32\u001b[0m \u001b[0mlis_in_secUl\u001b[0m\u001b[0;34m=\u001b[0m\u001b[0muls\u001b[0m\u001b[0;34m[\u001b[0m\u001b[0;36m1\u001b[0m\u001b[0;34m]\u001b[0m\u001b[0;34m.\u001b[0m\u001b[0mfindAll\u001b[0m\u001b[0;34m(\u001b[0m\u001b[0;34m\"li\"\u001b[0m\u001b[0;34m)\u001b[0m\u001b[0;34m\u001b[0m\u001b[0;34m\u001b[0m\u001b[0m\n\u001b[0;32m---> 33\u001b[0;31m \u001b[0mprint\u001b[0m\u001b[0;34m(\u001b[0m\u001b[0muls_second\u001b[0m\u001b[0;34m)\u001b[0m\u001b[0;34m\u001b[0m\u001b[0;34m\u001b[0m\u001b[0m\n\u001b[0m",
      "\u001b[0;31mNameError\u001b[0m: name 'uls_second' is not defined"
     ]
    }
   ],
   "source": [
    "# .findAll 연습\n",
    "\n",
    "test_html=\"\"\"\n",
    "<html>\n",
    "    <body>\n",
    "        <ul class=\"greet\">\n",
    "            <li class='first'>hello</li>\n",
    "            <li>bye</li>\n",
    "            <li>welcome</li>\n",
    "        </ul>\n",
    "        <ul >\n",
    "            <li>ok</li>\n",
    "            <li>no</li>\n",
    "            <li>sure</li>\n",
    "        </ul>\n",
    "        <ul class=\"eat\">\n",
    "            <li>breakfast</li>\n",
    "            <li>lunch</li>\n",
    "            <li>dinner</li>\n",
    "        </ul>\n",
    "    </body>\n",
    "</html>\n",
    "\"\"\"\n",
    "bsObj=bs4.BeautifulSoup(test_html, \"html.parser\")\n",
    "ul_greet= bsObj.find(\"ul\")\n",
    "lis=ul_greet.findAll(\"li\") #list 생성\n",
    "#print(lis[1].text) #list 중 원하는것 뽑기\n",
    "\n",
    "\n",
    "#두번째 ul 불러오기\n",
    "uls=bsObj.findAll(\"ul\")\n",
    "lis_in_secUl=uls[1].findAll(\"li\")\n",
    "print(uls_second)"
   ]
  },
  {
   "cell_type": "code",
   "execution_count": null,
   "metadata": {},
   "outputs": [],
   "source": []
  }
 ],
 "metadata": {
  "kernelspec": {
   "display_name": "Python 3",
   "language": "python",
   "name": "python3"
  },
  "language_info": {
   "codemirror_mode": {
    "name": "ipython",
    "version": 3
   },
   "file_extension": ".py",
   "mimetype": "text/x-python",
   "name": "python",
   "nbconvert_exporter": "python",
   "pygments_lexer": "ipython3",
   "version": "3.7.4"
  }
 },
 "nbformat": 4,
 "nbformat_minor": 4
}
