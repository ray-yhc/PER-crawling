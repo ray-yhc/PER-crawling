{
 "cells": [
  {
   "cell_type": "code",
   "execution_count": 2,
   "metadata": {},
   "outputs": [],
   "source": [
    "# BeautifulSoup Study 03\n",
    "# \n",
    "# 네이버금융(https://finance.naver.com/) 에서 시총순위별 기업정보 크롤링하기\n",
    "# \n",
    "# 시총순위 웹페이지의 url은 다음과 같다\n",
    "# https://finance.naver.com/sise/sise_market_sum.nhn?sosok=1&page=3\n",
    "# ? 뒤의 query들을 이용해 page를 조절할 수 있다.\n",
    "# \n",
    "import requests\n",
    "from bs4 import BeautifulSoup"
   ]
  },
  {
   "cell_type": "code",
   "execution_count": 2,
   "metadata": {},
   "outputs": [],
   "source": [
    "def getItem(tr):\n",
    "    tds=tr.findAll(\"td\")\n",
    "    rank=tds[0].text\n",
    "    \n",
    "    aTag=tds[1].find(\"a\")\n",
    "    href=aTag[\"href\"] #a태그의 href 속성 찾기!\n",
    "    code=href[-6:]\n",
    "    name=aTag.text\n",
    "    \n",
    "    price=tds[2].text\n",
    "    totalPrice=tds[6].text\n",
    "    return {\"rank\":rank, \"name\":name, \"price\":price, \"href\":href, \"code\":code, \"totalPrice\":totalPrice}\n",
    "\n",
    "# url 넣어서 해당 페이지의 기업정보 반환\n",
    "def get_bsObj(url) :\n",
    "    result=requests.get(url)\n",
    "    bsObj=BeautifulSoup(result.content, \"html.parser\")\n",
    "    box_type_l=bsObj.find(\"div\",{\"class\":\"box_type_l\"})\n",
    "    table=box_type_l.find(\"table\",{\"class\":\"type_2\"}).find(\"tbody\")\n",
    "    trs=table.findAll(\"tr\")\n",
    "    stockInfos=[]\n",
    "    for tr in trs:\n",
    "        try:\n",
    "            stockInfo=getItem(tr)\n",
    "            stockInfos.append(stockInfo)\n",
    "        except Exception as e:pass\n",
    "    return stockInfos\n",
    "\n",
    "\n",
    "#원하는 시총 페이지 html 불러오기\n",
    "def get_sise_market_sum(sosok,page) : #0코스피 1코스닥\n",
    "    url=\"https://finance.naver.com/sise/sise_market_sum.nhn?sosok={}&page={}\".format(sosok,page)\n",
    "    bsObj=get_bsObj(url)\n",
    "    return bsObj"
   ]
  },
  {
   "cell_type": "code",
   "execution_count": 2,
   "metadata": {},
   "outputs": [],
   "source": [
    "#1-500위까지. 1페이지~10페이지 html 불러오기\n",
    "result=[]\n",
    "for page in range(1,11):\n",
    "    html=get_sise_market_sum(0,page)\n",
    "    result+= html\n",
    "\n",
    "#print(result)"
   ]
  },
  {
   "cell_type": "code",
   "execution_count": 3,
   "metadata": {},
   "outputs": [
    {
     "data": {
      "text/plain": [
       "76575"
      ]
     },
     "execution_count": 3,
     "metadata": {},
     "output_type": "execute_result"
    }
   ],
   "source": [
    "# 별도의 json 파일로 저장하기\n",
    "\n",
    "import json\n",
    "\n",
    "file=open(\"./kospi.json\",\"w+\")\n",
    "file.write(json.dumps(result))"
   ]
  },
  {
   "cell_type": "code",
   "execution_count": 4,
   "metadata": {},
   "outputs": [],
   "source": [
    "## result 예시\n",
    "#\n",
    "# rank:\"1\"\n",
    "#     name:\"삼성전자\"\n",
    "#     price:\"55,900\"\n",
    "#     href:\"/item/main.nhn?code=005930\"\n",
    "#     code:\"005930\"\n",
    "#     totalPrice:\"3,337,108\"\n",
    "# rank:\"2\"\n",
    "#     name:\"SK하이닉스\"\n",
    "#     price:\"92,800\"\n",
    "#     href:\"/item/main.nhn?code=000660\"\n",
    "#     code:\"000660\"\n",
    "#     totalPrice:\"675,586\"\n",
    "# rank:\"3\"\n",
    "#     name:\"삼성전자우\"\n",
    "#     price:\"47,550\"\n",
    "#     href:\"/item/main.nhn?code=005935\"\n",
    "#     code:\"005935\"\n",
    "#     totalPrice:\"391,283\"\n",
    "# ..."
   ]
  },
  {
   "cell_type": "code",
   "execution_count": null,
   "metadata": {},
   "outputs": [],
   "source": []
  }
 ],
 "metadata": {
  "kernelspec": {
   "display_name": "Python 3",
   "language": "python",
   "name": "python3"
  },
  "language_info": {
   "codemirror_mode": {
    "name": "ipython",
    "version": 3
   },
   "file_extension": ".py",
   "mimetype": "text/x-python",
   "name": "python",
   "nbconvert_exporter": "python",
   "pygments_lexer": "ipython3",
   "version": "3.7.4"
  }
 },
 "nbformat": 4,
 "nbformat_minor": 4
}
