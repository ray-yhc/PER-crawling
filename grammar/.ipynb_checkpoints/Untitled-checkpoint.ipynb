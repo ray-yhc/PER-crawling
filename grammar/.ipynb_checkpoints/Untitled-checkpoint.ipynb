{
 "cells": [
  {
   "cell_type": "code",
   "execution_count": 35,
   "metadata": {},
   "outputs": [],
   "source": [
    "# BeautifulSoup Special request\n",
    "# \n",
    "# hynix 홈페이지 게시글 크롤링\n",
    "# 제목, 링크 수집해 표로 만들기\n",
    "# \n",
    "import urllib.request\n",
    "import bs4\n",
    "from pandas import Series, DataFrame\n",
    "import pandas as pd"
   ]
  },
  {
   "cell_type": "code",
   "execution_count": 36,
   "metadata": {},
   "outputs": [
    {
     "data": {
      "text/html": [
       "<div>\n",
       "<style scoped>\n",
       "    .dataframe tbody tr th:only-of-type {\n",
       "        vertical-align: middle;\n",
       "    }\n",
       "\n",
       "    .dataframe tbody tr th {\n",
       "        vertical-align: top;\n",
       "    }\n",
       "\n",
       "    .dataframe thead th {\n",
       "        text-align: right;\n",
       "    }\n",
       "</style>\n",
       "<table border=\"1\" class=\"dataframe\">\n",
       "  <thead>\n",
       "    <tr style=\"text-align: right;\">\n",
       "      <th></th>\n",
       "      <th>0</th>\n",
       "      <th>1</th>\n",
       "    </tr>\n",
       "  </thead>\n",
       "  <tbody>\n",
       "    <tr>\n",
       "      <th>0</th>\n",
       "      <td>\\n[반도체 특강] 패키지를 봉합하다_인캡슐레이션(Encapsulation) 공정\\n</td>\n",
       "      <td>https://news.skhynix.co.kr/category/Technology...</td>\n",
       "    </tr>\n",
       "    <tr>\n",
       "      <th>1</th>\n",
       "      <td>\\n[반도체 특강] 와이어본딩(Wire Bonding), 칩을 바느질해 PCB에 연...</td>\n",
       "      <td>https://news.skhynix.co.kr/category/Technology...</td>\n",
       "    </tr>\n",
       "    <tr>\n",
       "      <th>2</th>\n",
       "      <td>\\n[반도체 특강] 다이본딩(Die Bonding), 패키지 기판에 칩을 올리다\\n</td>\n",
       "      <td>https://news.skhynix.co.kr/category/Technology...</td>\n",
       "    </tr>\n",
       "    <tr>\n",
       "      <th>3</th>\n",
       "      <td>\\n[반도체 특강] 싱귤레이션(Singulation), 한 장의 웨이퍼가 여러 개의...</td>\n",
       "      <td>https://news.skhynix.co.kr/category/Technology...</td>\n",
       "    </tr>\n",
       "    <tr>\n",
       "      <th>4</th>\n",
       "      <td>\\n[반도체 특강] 백그라인딩(Back Grinding), 웨이퍼의 두께를 결정 짓다\\n</td>\n",
       "      <td>https://news.skhynix.co.kr/category/Technology...</td>\n",
       "    </tr>\n",
       "    <tr>\n",
       "      <th>5</th>\n",
       "      <td>\\n[반도체 특강] 경박단소(輕薄短小), 반도체 패키지의 방향\\n</td>\n",
       "      <td>https://news.skhynix.co.kr/category/Technology...</td>\n",
       "    </tr>\n",
       "  </tbody>\n",
       "</table>\n",
       "</div>"
      ],
      "text/plain": [
       "                                                   0  \\\n",
       "0    \\n[반도체 특강] 패키지를 봉합하다_인캡슐레이션(Encapsulation) 공정\\n   \n",
       "1  \\n[반도체 특강] 와이어본딩(Wire Bonding), 칩을 바느질해 PCB에 연...   \n",
       "2     \\n[반도체 특강] 다이본딩(Die Bonding), 패키지 기판에 칩을 올리다\\n   \n",
       "3  \\n[반도체 특강] 싱귤레이션(Singulation), 한 장의 웨이퍼가 여러 개의...   \n",
       "4  \\n[반도체 특강] 백그라인딩(Back Grinding), 웨이퍼의 두께를 결정 짓다\\n   \n",
       "5               \\n[반도체 특강] 경박단소(輕薄短小), 반도체 패키지의 방향\\n   \n",
       "\n",
       "                                                   1  \n",
       "0  https://news.skhynix.co.kr/category/Technology...  \n",
       "1  https://news.skhynix.co.kr/category/Technology...  \n",
       "2  https://news.skhynix.co.kr/category/Technology...  \n",
       "3  https://news.skhynix.co.kr/category/Technology...  \n",
       "4  https://news.skhynix.co.kr/category/Technology...  \n",
       "5  https://news.skhynix.co.kr/category/Technology...  "
      ]
     },
     "execution_count": 36,
     "metadata": {},
     "output_type": "execute_result"
    }
   ],
   "source": [
    "def SinglePage(page):\n",
    "    result = []\n",
    "    \n",
    "    url=\"https://news.skhynix.co.kr/category/Technology/%EB%B0%98%EB%8F%84%EC%B2%B4?page=\"\n",
    "    url += str(page)\n",
    "#     print(url)\n",
    "    html=urllib.request.urlopen(url)\n",
    "    bsObj=bs4.BeautifulSoup(html, \"html.parser\")\n",
    "    titles = bsObj.find(\"div\", {\"id\":\"searchList\"}).findAll(\"p\",{\"class\":\"searchList_title title\"})\n",
    "    \n",
    "    for article in titles:\n",
    "        artTitle = article.text\n",
    "        artHref = url + article.find(\"a\")[\"href\"]\n",
    "        artData = [artTitle, artHref]\n",
    "        result.append(artData)\n",
    "#     print(result)\n",
    "#     print(DataFrame(result))\n",
    "    return result\n",
    "\n",
    "result = []\n",
    "for i in range(1,34):\n",
    "    result += SinglePage(i)\n",
    "\n",
    "fileName=\"hynix.csv\"\n",
    "table = DataFrame(result)\n",
    "table.to_csv(fileName, mode=\"w\")\n",
    "table"
   ]
  },
  {
   "cell_type": "code",
   "execution_count": null,
   "metadata": {},
   "outputs": [],
   "source": []
  }
 ],
 "metadata": {
  "kernelspec": {
   "display_name": "Python 3",
   "language": "python",
   "name": "python3"
  },
  "language_info": {
   "codemirror_mode": {
    "name": "ipython",
    "version": 3
   },
   "file_extension": ".py",
   "mimetype": "text/x-python",
   "name": "python",
   "nbconvert_exporter": "python",
   "pygments_lexer": "ipython3",
   "version": "3.7.4"
  }
 },
 "nbformat": 4,
 "nbformat_minor": 4
}
