{
 "cells": [
  {
   "cell_type": "code",
   "execution_count": 4,
   "metadata": {},
   "outputs": [
    {
     "name": "stdout",
     "output_type": "stream",
     "text": [
      "<class 'bs4.BeautifulSoup'>\n",
      "\n",
      "<html>\n",
      "<body>\n",
      "<ul class=\"greet\">\n",
      "<li>hello</li>\n",
      "<li>bye</li>\n",
      "<li>welcome</li>\n",
      "</ul>\n",
      "<ul class=\"reply\">\n",
      "<li>ok</li>\n",
      "<li>no</li>\n",
      "<li>sure</li>\n",
      "</ul>\n",
      "<ul class=\"eat\">\n",
      "<li>breakfast</li>\n",
      "<li>lunch</li>\n",
      "<li>dinner</li>\n",
      "</ul>\n",
      "</body>\n",
      "</html>\n",
      "\n",
      "<ul class=\"greet\">\n",
      "<li>hello</li>\n",
      "<li>bye</li>\n",
      "<li>welcome</li>\n",
      "</ul>\n",
      "<li>hello</li>\n"
     ]
    }
   ],
   "source": [
    "# BeautifulSoup Study 01\n",
    "# \n",
    "# BeautifulSoup(bs4) 이용해보기\n",
    "# 주어진 html문서에서 BeautifulSoup 함수와 .find메소드 이용해 원하는 부분 파싱\n",
    "# \n",
    "import bs4\n",
    "\n",
    "html_str=\"\"\"\n",
    "<html>\n",
    "    <body>\n",
    "        <ul class=\"greet\">\n",
    "            <li>hello</li>\n",
    "            <li>bye</li>\n",
    "            <li>welcome</li>\n",
    "        </ul>\n",
    "        <ul class=\"reply\">\n",
    "            <li>ok</li>\n",
    "            <li>no</li>\n",
    "            <li>sure</li>\n",
    "        </ul>\n",
    "        <ul class=\"eat\">\n",
    "            <li>breakfast</li>\n",
    "            <li>lunch</li>\n",
    "            <li>dinner</li>\n",
    "        </ul>\n",
    "    </body>\n",
    "</html>\n",
    "\"\"\"\n",
    "\n",
    "# BeautifulSoup object 생성\n",
    "bsObj = bs4.BeautifulSoup(html_str,\"html.parser\")\n",
    "\n",
    "print(type(bsObj))  # <class 'bs4.BeautifulSoup'>\n",
    "print(bsObj)        # <html> ... </html>\n",
    "\n",
    "# .find메소드는 해당 태그 검색결과 중 첫 번째 결과만을 반환한다\n",
    "print(bsObj.find(\"ul\"))  # <ul class=\"greet\"> ... </ul>\n",
    "print(bsObj.find(\"li\"))  # <li>hello</li>"
   ]
  },
  {
   "cell_type": "code",
   "execution_count": null,
   "metadata": {},
   "outputs": [],
   "source": []
  }
 ],
 "metadata": {
  "kernelspec": {
   "display_name": "Python 3",
   "language": "python",
   "name": "python3"
  },
  "language_info": {
   "codemirror_mode": {
    "name": "ipython",
    "version": 3
   },
   "file_extension": ".py",
   "mimetype": "text/x-python",
   "name": "python",
   "nbconvert_exporter": "python",
   "pygments_lexer": "ipython3",
   "version": "3.7.4"
  }
 },
 "nbformat": 4,
 "nbformat_minor": 4
}
