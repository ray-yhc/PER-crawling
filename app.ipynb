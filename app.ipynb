{
 "cells": [
  {
   "cell_type": "code",
   "execution_count": 7,
   "metadata": {},
   "outputs": [],
   "source": [
    "# app.ipynb\n",
    "#\n",
    "import import_ipynb\n",
    "from lib.crawlInfo import make_closeChart,make_NIChart, make_stockNumChart, make_closeChart, print_url_page"
   ]
  },
  {
   "cell_type": "code",
   "execution_count": 8,
   "metadata": {},
   "outputs": [
    {
     "name": "stdout",
     "output_type": "stream",
     "text": [
      "[]\n",
      "[]\n",
      "url_list: https://opendart.fss.or.kr/api/list.xml?crtfc_key=b1a2652ac6ced65033696952d7e710c1afc48958&corp_code=005930&bgn_de=20121101&end_de=20201130&pblntf_detail_ty=A003&pblntf_detail_ty=A001&pblntf_detail_ty=A002&page_count=100\n",
      "{'2014.4': {'연결총당기순이익': '23,394,358'}, '2015.1': {'연결총당기순이익': '4,625,815'}, '2015.2': {'연결총당기순이익': '10,378,112'}, '2015.3': {'연결총당기순이익': '15,836,671'}, '2015.4': {'연결총당기순이익': '19,060,144'}, '2016.1': {'연결총당기순이익': '5,252,803'}, '2016.2': {'연결총당기순이익': '11,100,196'}, '2016.3': {'연결총당기순이익': '15,638,051'}, '2016.4': {'연결총당기순이익': '22,726,092'}, '2017.1': {'연결총당기순이익': '7,684,354'}, '2017.2': {'연결총당기순이익': '18,738,205'}, '2017.3': {'연결총당기순이익': '29,931,616'}, '2017.4': {'영업이익': '53,645,038'}, '2018.1': {'연결총당기순이익': '11,688,544'}, '2018.2': {'연결총당기순이익': '22,731,956'}, '2018.3': {'연결총당기순이익': '35,882,671'}, '2018.4': {'연결총당기순이익': '44,344,857'}, '2019.1': {'연결총당기순이익': '5,043,585'}, '2019.2': {'연결총당기순이익': '10,224,161'}, '2019.3': {'연결총당기순이익': '16,511,825'}, '2019.4': {'연결총당기순이익': '21,738,865'}, '2020.1': {'연결총당기순이익': '4,884,926'}, '2020.2': {'연결총당기순이익': '10,440,009'}, '2020.3': {'연결총당기순이익': '19,800,702'}}\n",
      "\n",
      "    eleId \n",
      "    12:요약연결재무제표, \n",
      "    7:주식의 총수 등\n",
      "    \n",
      "url_list: https://opendart.fss.or.kr/api/list.xml?crtfc_key=b1a2652ac6ced65033696952d7e710c1afc48958&corp_code=005930&bgn_de=20121101&end_de=20201130&pblntf_detail_ty=A003&pblntf_detail_ty=A001&pblntf_detail_ty=A002&page_count=100\n",
      "url_list: https://opendart.fss.or.kr/api/list.xml?crtfc_key=b1a2652ac6ced65033696952d7e710c1afc48958&corp_code=005930&bgn_de=20121101&end_de=20201130&pblntf_detail_ty=A003&pblntf_detail_ty=A001&pblntf_detail_ty=A002&page_count=100\n",
      "http://dart.fss.or.kr/report/viewer.do?rcpNo=20121114000975&dcmNo=3560249&eleId=7&offset=572847&length=21503&dtd=dart3.xsd\n",
      "http://dart.fss.or.kr/report/viewer.do?rcpNo=20130401003031&dcmNo=3714646&eleId=7&offset=572847&length=21503&dtd=dart3.xsd\n",
      "http://dart.fss.or.kr/report/viewer.do?rcpNo=20130515000677&dcmNo=3803552&eleId=7&offset=572847&length=21503&dtd=dart3.xsd\n",
      "http://dart.fss.or.kr/report/viewer.do?rcpNo=20130814000618&dcmNo=3875930&eleId=7&offset=572847&length=21503&dtd=dart3.xsd\n",
      "http://dart.fss.or.kr/report/viewer.do?rcpNo=20131114000520&dcmNo=3952512&eleId=7&offset=572847&length=21503&dtd=dart3.xsd\n",
      "http://dart.fss.or.kr/report/viewer.do?rcpNo=20140331002427&dcmNo=4114631&eleId=7&offset=572847&length=21503&dtd=dart3.xsd\n",
      "http://dart.fss.or.kr/report/viewer.do?rcpNo=20140515001057&dcmNo=4215971&eleId=7&offset=572847&length=21503&dtd=dart3.xsd\n",
      "http://dart.fss.or.kr/report/viewer.do?rcpNo=20140814000743&dcmNo=4299541&eleId=7&offset=572847&length=21503&dtd=dart3.xsd\n",
      "http://dart.fss.or.kr/report/viewer.do?rcpNo=20141114000755&dcmNo=4384460&eleId=7&offset=572847&length=21503&dtd=dart3.xsd\n",
      "http://dart.fss.or.kr/report/viewer.do?rcpNo=20150331002915&dcmNo=4556583&eleId=7&offset=572847&length=21503&dtd=dart3.xsd\n",
      "http://dart.fss.or.kr/report/viewer.do?rcpNo=20150515001379&dcmNo=4669876&eleId=7&offset=572847&length=21503&dtd=dart3.xsd\n",
      "http://dart.fss.or.kr/report/viewer.do?rcpNo=20150817000859&dcmNo=4770098&eleId=7&offset=572847&length=21503&dtd=dart3.xsd\n",
      "http://dart.fss.or.kr/report/viewer.do?rcpNo=20151116000976&dcmNo=4854164&eleId=7&offset=572847&length=21503&dtd=dart3.xsd\n",
      "http://dart.fss.or.kr/report/viewer.do?rcpNo=20160330003536&dcmNo=5026126&eleId=7&offset=572847&length=21503&dtd=dart3.xsd\n",
      "http://dart.fss.or.kr/report/viewer.do?rcpNo=20160516003174&dcmNo=5146351&eleId=7&offset=572847&length=21503&dtd=dart3.xsd\n",
      "http://dart.fss.or.kr/report/viewer.do?rcpNo=20160816001779&dcmNo=5261457&eleId=7&offset=572847&length=21503&dtd=dart3.xsd\n",
      "http://dart.fss.or.kr/report/viewer.do?rcpNo=20161114001491&dcmNo=5349987&eleId=7&offset=572847&length=21503&dtd=dart3.xsd\n",
      "http://dart.fss.or.kr/report/viewer.do?rcpNo=20170331004518&dcmNo=5540271&eleId=7&offset=572847&length=21503&dtd=dart3.xsd\n",
      "http://dart.fss.or.kr/report/viewer.do?rcpNo=20170515003806&dcmNo=5653406&eleId=7&offset=572847&length=21503&dtd=dart3.xsd\n",
      "http://dart.fss.or.kr/report/viewer.do?rcpNo=20170814001832&dcmNo=5752868&eleId=7&offset=572847&length=21503&dtd=dart3.xsd\n",
      "http://dart.fss.or.kr/report/viewer.do?rcpNo=20171114001694&dcmNo=5845320&eleId=7&offset=572847&length=21503&dtd=dart3.xsd\n",
      "http://dart.fss.or.kr/report/viewer.do?rcpNo=20180402005019&dcmNo=6060273&eleId=7&offset=572847&length=21503&dtd=dart3.xsd\n",
      "http://dart.fss.or.kr/report/viewer.do?rcpNo=20180515001699&dcmNo=6180129&eleId=7&offset=572847&length=21503&dtd=dart3.xsd\n",
      "http://dart.fss.or.kr/report/viewer.do?rcpNo=20180814001113&dcmNo=6282263&eleId=7&offset=572847&length=21503&dtd=dart3.xsd\n",
      "http://dart.fss.or.kr/report/viewer.do?rcpNo=20181114001530&dcmNo=6382016&eleId=7&offset=572847&length=21503&dtd=dart3.xsd\n",
      "http://dart.fss.or.kr/report/viewer.do?rcpNo=20190401004781&dcmNo=6616741&eleId=7&offset=572847&length=21503&dtd=dart3.xsd\n",
      "http://dart.fss.or.kr/report/viewer.do?rcpNo=20190515001605&dcmNo=6738798&eleId=7&offset=572847&length=21503&dtd=dart3.xsd\n",
      "http://dart.fss.or.kr/report/viewer.do?rcpNo=20190814002218&dcmNo=6846651&eleId=7&offset=572847&length=21503&dtd=dart3.xsd\n",
      "http://dart.fss.or.kr/report/viewer.do?rcpNo=20191114001273&dcmNo=6958001&eleId=7&offset=572847&length=21503&dtd=dart3.xsd\n",
      "http://dart.fss.or.kr/report/viewer.do?rcpNo=20200330003851&dcmNo=7202455&eleId=7&offset=572847&length=21503&dtd=dart3.xsd\n",
      "http://dart.fss.or.kr/report/viewer.do?rcpNo=20200515001451&dcmNo=7341446&eleId=7&offset=572847&length=21503&dtd=dart3.xsd\n",
      "http://dart.fss.or.kr/report/viewer.do?rcpNo=20200814001766&dcmNo=7446167&eleId=7&offset=572847&length=21503&dtd=dart3.xsd\n",
      "http://dart.fss.or.kr/report/viewer.do?rcpNo=20201116001248&dcmNo=7549051&eleId=7&offset=572847&length=21503&dtd=dart3.xsd\n",
      "{'2012.3': {' Ⅳ. 발행주식의 총수 (Ⅱ-Ⅲ)': '147,299,337'}, '2012.4': {' Ⅳ. 발행주식의 총수 (Ⅱ-Ⅲ)': '147,299,337'}, '2013.1': {' Ⅳ. 발행주식의 총수 (Ⅱ-Ⅲ)': '147,299,337'}, '2013.2': {' Ⅳ. 발행주식의 총수 (Ⅱ-Ⅲ)': '147,299,337'}, '2013.3': {' Ⅳ. 발행주식의 총수 (Ⅱ-Ⅲ)': '147,299,337'}, '2013.4': {' Ⅳ. 발행주식의 총수 (Ⅱ-Ⅲ)': '147,299,337'}, '2014.1': {' Ⅳ. 발행주식의 총수 (Ⅱ-Ⅲ)': '147,299,337'}, '2014.2': {' Ⅳ. 발행주식의 총수 (Ⅱ-Ⅲ)': '147,299,337'}, '2014.3': {' Ⅳ. 발행주식의 총수 (Ⅱ-Ⅲ)': '147,299,337'}, '2014.4': {' Ⅳ. 발행주식의 총수 (Ⅱ-Ⅲ)': '147,299,337'}, '2015.1': {' Ⅳ. 발행주식의 총수 (Ⅱ-Ⅲ)': '147,299,337'}, '2015.2': {' Ⅳ. 발행주식의 총수 (Ⅱ-Ⅲ)': '147,299,337'}, '2015.3': {' Ⅳ. 발행주식의 총수 (Ⅱ-Ⅲ)': '147,299,337'}, '2015.4': {' Ⅳ. 발행주식의 총수 (Ⅱ-Ⅲ)': '147,299,337'}, '2016.1': {' Ⅳ. 발행주식의 총수 (Ⅱ-Ⅲ)': '145,069,337'}, '2016.2': {' Ⅳ. 발행주식의 총수 (Ⅱ-Ⅲ)': '142,969,337'}, '2016.3': {' Ⅳ. 발행주식의 총수 (Ⅱ-Ⅲ)': '140,679,337'}, '2016.4': {' Ⅳ. 발행주식의 총수 (Ⅱ-Ⅲ)': '140,679,337'}, '2017.1': {' Ⅳ. 발행주식의 총수 (Ⅱ-Ⅲ)': '140,679,337'}, '2017.2': {' Ⅳ. 발행주식의 총수 (Ⅱ-Ⅲ)': '130,668,494'}, '2017.3': {' Ⅳ. 발행주식의 총수 (Ⅱ-Ⅲ)': '129,768,494'}, '2017.4': {' Ⅳ. 발행주식의 총수 (Ⅱ-Ⅲ)': '129,098,494'}, '2018.1': {' Ⅳ. 발행주식의 총수 (Ⅱ-Ⅲ)': '128,386,494'}, '2018.2': {' Ⅳ. 발행주식의 총수 (Ⅱ-Ⅲ)': '6,419,324,700'}, '2018.3': {' Ⅳ. 발행주식의 총수 (Ⅱ-Ⅲ)': '6,419,324,700'}, '2018.4': {' Ⅳ. 발행주식의 총수 (Ⅱ-Ⅲ)': '5,969,782,550'}, '2019.1': {' Ⅳ. 발행주식의 총수 (Ⅱ-Ⅲ)': '5,969,782,550'}, '2019.2': {'\\xa0Ⅳ. 발행주식의 총수 (Ⅱ-Ⅲ)': '5,969,782,550'}, '2019.3': {'\\xa0Ⅳ. 발행주식의 총수 (Ⅱ-Ⅲ)': '5,969,782,550'}, '2019.4': {'\\xa0Ⅳ. 발행주식의 총수 (Ⅱ-Ⅲ)': '5,969,782,550'}, '2020.1': {'\\xa0Ⅳ. 발행주식의 총수 (Ⅱ-Ⅲ)': '5,969,782,550'}, '2020.2': {'\\xa0Ⅳ. 발행주식의 총수 (Ⅱ-Ⅲ)': '5,969,782,550'}, '2020.3': {'\\xa0Ⅳ. 발행주식의 총수 (Ⅱ-Ⅲ)': '5,969,782,550'}}\n"
     ]
    },
    {
     "data": {
      "text/plain": [
       "'completed'"
      ]
     },
     "execution_count": 8,
     "metadata": {},
     "output_type": "execute_result"
    }
   ],
   "source": [
    "code=\"005930\" \n",
    "\n",
    "# 설정된 기간 동안 일별 종가 데이터 반환\n",
    "make_closeChart(code)\n",
    "\n",
    "# 설정된 기간 동안 분기별 당기순이익 데이터 반환\n",
    "make_NIChart(code)\n",
    "\n",
    "# 각 공시보고서의 rcpNo와 dcmNo 크롤해 해당 페이지로 연결되는 url 반환\n",
    "# eleId  -  12:요약연결재무제표, 7:주식의 총수 등\n",
    "print_url_page(code,'7') \n",
    "\n",
    "# 설정된 기간 동안 분기별 발행주식의 총수 데이터 반환\n",
    "make_stockNumChart(code)"
   ]
  }
 ],
 "metadata": {
  "kernelspec": {
   "display_name": "Python 3",
   "language": "python",
   "name": "python3"
  },
  "language_info": {
   "codemirror_mode": {
    "name": "ipython",
    "version": 3
   },
   "file_extension": ".py",
   "mimetype": "text/x-python",
   "name": "python",
   "nbconvert_exporter": "python",
   "pygments_lexer": "ipython3",
   "version": "3.7.4"
  }
 },
 "nbformat": 4,
 "nbformat_minor": 4
}
